{
 "cells": [
  {
   "cell_type": "code",
   "execution_count": null,
   "id": "88611cdd",
   "metadata": {},
   "outputs": [
    {
     "name": "stdout",
     "output_type": "stream",
     "text": [
      "Classes trouvées: ['Pro-B', 'Benign', 'Pre-B', 'early Pre-B']\n"
     ]
    }
   ],
   "source": [
    "import os\n",
    "import cv2\n",
    "\n",
    "allowed_ext = ('.jpeg', '.jpg', '.bmp', '.png')\n",
    "path = 'Blood_Cells_Cancer/Blood_cell_Cancer'\n",
    "IMG_SIZE = 224\n",
    "\n",
    "images = []\n",
    "labels = []\n",
    "\n",
    "try:\n",
    "    classes = [d for d in os.listdir(path) if os.path.isdir(os.path.join(path, d))]\n",
    "    print(f\"Classes trouvées: {classes}\")\n",
    "    \n",
    "    for class_name in classes:\n",
    "        class_path = os.path.join(path, class_name)\n",
    "        image_files = os.listdir(class_path)\n",
    "        \n",
    "        for img_file in image_files:\n",
    "            if img_file.lower().endswith(allowed_ext):\n",
    "                img_path = os.path.join(class_path, img_file)\n",
    "                img = cv2.imread(img_path)\n",
    "                \n",
    "                if img is not None:\n",
    "                    img_resized = cv2.resize(img, (IMG_SIZE, IMG_SIZE))\n",
    "                    images.append(img_resized)\n",
    "                    labels.append(class_name)\n",
    "            else:\n",
    "                os.remove(os.path.join(class_path, img_file))\n",
    "                \n",
    "except Exception as e:\n",
    "    print(f\"Erreur: {e}\")\n",
    "\n"
   ]
  },
  {
   "cell_type": "code",
   "execution_count": null,
   "id": "7c774c47",
   "metadata": {},
   "outputs": [],
   "source": []
  }
 ],
 "metadata": {
  "kernelspec": {
   "display_name": ".venv (3.12.3)",
   "language": "python",
   "name": "python3"
  },
  "language_info": {
   "codemirror_mode": {
    "name": "ipython",
    "version": 3
   },
   "file_extension": ".py",
   "mimetype": "text/x-python",
   "name": "python",
   "nbconvert_exporter": "python",
   "pygments_lexer": "ipython3",
   "version": "3.12.3"
  }
 },
 "nbformat": 4,
 "nbformat_minor": 5
}
