{
 "cells": [
  {
   "cell_type": "code",
   "execution_count": 40,
   "id": "88611cdd",
   "metadata": {},
   "outputs": [
    {
     "name": "stdout",
     "output_type": "stream",
     "text": [
      "['Pro-B', 'Benign', 'Pre-B', 'early Pre-B']\n"
     ]
    }
   ],
   "source": [
    "import os\n",
    "import cv2\n",
    "import matplotlib as plt\n",
    "import seaborn as sns\n",
    "\n",
    "\n",
    "allowed_ext = ('.jpeg', '.jpg', '.bmp', '.png')\n",
    "path_blood = 'Blood_Cells_Cancer/Blood_cell_Cancer'\n",
    "path_brain = 'Data_Brain/Train'\n",
    "IMG_SIZE = 224\n",
    "\n",
    "images_blood = []\n",
    "labels_blood = []\n",
    "\n",
    "\n",
    "\n",
    "try:\n",
    "   \n",
    "        classes_blood = [d for d in os.listdir(path_blood) if os.path.isdir(os.path.join(path_blood, d))]\n",
    "        print(classes_blood)\n",
    "        for class_name in classes_blood:\n",
    "            class_path = os.path.join(path_blood, class_name)\n",
    "            \n",
    "            for img_file in os.listdir(class_path):\n",
    "                if img_file.lower().endswith(allowed_ext):\n",
    "                    img_path = os.path.join(class_path, img_file)\n",
    "                    img = cv2.imread(img_path)\n",
    "                    \n",
    "                    if img is not None:\n",
    "                        img_resized = cv2.resize(img, (IMG_SIZE, IMG_SIZE))\n",
    "                        images_blood.append(img_resized)\n",
    "                        labels_blood.append(class_name)\n",
    "\n",
    "except Exception as e:\n",
    "    print(f\"Une erreur est survenue: {e}\")"
   ]
  },
  {
   "cell_type": "code",
   "execution_count": 34,
   "id": "7c774c47",
   "metadata": {},
   "outputs": [
    {
     "data": {
      "text/plain": [
       "3242"
      ]
     },
     "execution_count": 34,
     "metadata": {},
     "output_type": "execute_result"
    }
   ],
   "source": [
    "len(labels_blood)"
   ]
  },
  {
   "cell_type": "code",
   "execution_count": 41,
   "id": "aaf0be36",
   "metadata": {},
   "outputs": [
    {
     "data": {
      "text/plain": [
       "<Axes: ylabel='count'>"
      ]
     },
     "execution_count": 41,
     "metadata": {},
     "output_type": "execute_result"
    },
    {
     "data": {
      "image/png": "[encoded data removed]",
      "text/plain": [
       "<Figure size 640x480 with 1 Axes>"
      ]
     },
     "metadata": {},
     "output_type": "display_data"
    }
   ],
   "source": [
    "sns.countplot(x = labels_blood)"
   ]
  },
  {
   "cell_type": "code",
   "execution_count": 43,
   "id": "486ddcae",
   "metadata": {},
   "outputs": [
    {
     "ename": "AttributeError",
     "evalue": "module 'matplotlib' has no attribute 'subplots'",
     "output_type": "error",
     "traceback": [
      "\u001b[31m---------------------------------------------------------------------------\u001b[39m",
      "\u001b[31mAttributeError\u001b[39m                            Traceback (most recent call last)",
      "\u001b[36mCell\u001b[39m\u001b[36m \u001b[39m\u001b[32mIn[43]\u001b[39m\u001b[32m, line 3\u001b[39m\n\u001b[32m      1\u001b[39m \u001b[38;5;28;01mimport\u001b[39;00m\u001b[38;5;250m \u001b[39m\u001b[34;01mnumpy\u001b[39;00m\u001b[38;5;250m \u001b[39m\u001b[38;5;28;01mas\u001b[39;00m\u001b[38;5;250m \u001b[39m\u001b[34;01mnp\u001b[39;00m\n\u001b[32m      2\u001b[39m unique_classes = np.unique(labels_blood)\n\u001b[32m----> \u001b[39m\u001b[32m3\u001b[39m fig, axes = \u001b[43mplt\u001b[49m\u001b[43m.\u001b[49m\u001b[43msubplots\u001b[49m(\u001b[38;5;28mlen\u001b[39m(unique_classes), \u001b[32m5\u001b[39m, figsize=(\u001b[32m15\u001b[39m, \u001b[38;5;28mlen\u001b[39m(unique_classes) * \u001b[32m3\u001b[39m))\n\u001b[32m      5\u001b[39m \u001b[38;5;28;01mfor\u001b[39;00m i, class_name \u001b[38;5;129;01min\u001b[39;00m \u001b[38;5;28menumerate\u001b[39m(unique_classes):\n\u001b[32m      6\u001b[39m     class_indices = np.where(labels == class_name)[\u001b[32m0\u001b[39m][:\u001b[32m5\u001b[39m]\n",
      "\u001b[36mFile \u001b[39m\u001b[32m~/Desktop/folder_0/projects/sprint_1/MultiModal-Cancer-Detection/.venv/lib/python3.12/site-packages/matplotlib/_api/__init__.py:218\u001b[39m, in \u001b[36mcaching_module_getattr.<locals>.__getattr__\u001b[39m\u001b[34m(name)\u001b[39m\n\u001b[32m    216\u001b[39m \u001b[38;5;28;01mif\u001b[39;00m name \u001b[38;5;129;01min\u001b[39;00m props:\n\u001b[32m    217\u001b[39m     \u001b[38;5;28;01mreturn\u001b[39;00m props[name].\u001b[34m__get__\u001b[39m(instance)\n\u001b[32m--> \u001b[39m\u001b[32m218\u001b[39m \u001b[38;5;28;01mraise\u001b[39;00m \u001b[38;5;167;01mAttributeError\u001b[39;00m(\n\u001b[32m    219\u001b[39m     \u001b[33mf\u001b[39m\u001b[33m\"\u001b[39m\u001b[33mmodule \u001b[39m\u001b[38;5;132;01m{\u001b[39;00m\u001b[38;5;28mcls\u001b[39m.\u001b[34m__module__\u001b[39m\u001b[38;5;132;01m!r}\u001b[39;00m\u001b[33m has no attribute \u001b[39m\u001b[38;5;132;01m{\u001b[39;00mname\u001b[38;5;132;01m!r}\u001b[39;00m\u001b[33m\"\u001b[39m)\n",
      "\u001b[31mAttributeError\u001b[39m: module 'matplotlib' has no attribute 'subplots'"
     ]
    }
   ],
   "source": [
    "import numpy as np\n",
    "unique_classes = np.unique(labels_blood)\n",
    "fig, axes = plt.subplots(len(unique_classes), 5, figsize=(15, len(unique_classes) * 3))\n",
    "\n",
    "for i, class_name in enumerate(unique_classes):\n",
    "    class_indices = np.where(labels == class_name)[0][:5]\n",
    "    \n",
    "    for j, idx in enumerate(class_indices):\n",
    "        ax = axes[i, j] if len(unique_classes) > 1 else axes[j]\n",
    "        img_rgb = cv2.cvtColor(images[idx], cv2.COLOR_BGR2RGB)\n",
    "        ax.imshow(img_rgb)\n",
    "        ax.axis('off')\n",
    "        if j == 0:\n",
    "            ax.set_title(f'{class_name}', fontsize=12, fontweight='bold')\n",
    "\n",
    "plt.tight_layout()\n",
    "plt.show()"
   ]
  },
  {
   "cell_type": "code",
   "execution_count": null,
   "id": "d33dfa43",
   "metadata": {},
   "outputs": [],
   "source": []
  }
 ],
 "metadata": {
  "kernelspec": {
   "display_name": ".venv (3.12.3)",
   "language": "python",
   "name": "python3"
  },
  "language_info": {
   "codemirror_mode": {
    "name": "ipython",
    "version": 3
   },
   "file_extension": ".py",
   "mimetype": "text/x-python",
   "name": "python",
   "nbconvert_exporter": "python",
   "pygments_lexer": "ipython3",
   "version": "3.12.3"
  }
 },
 "nbformat": 4,
 "nbformat_minor": 5
}
